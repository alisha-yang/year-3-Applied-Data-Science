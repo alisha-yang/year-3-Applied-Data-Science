{
 "cells": [
  {
   "cell_type": "code",
   "execution_count": 1,
   "metadata": {},
   "outputs": [],
   "source": [
    "import pandas as pd\n",
    "import warnings\n",
    "import numpy as np\n",
    "warnings.simplefilter(action='ignore', category=FutureWarning)\n",
    "import math "
   ]
  },
  {
   "cell_type": "code",
   "execution_count": 2,
   "metadata": {},
   "outputs": [],
   "source": [
    "total_n = 0"
   ]
  },
  {
   "cell_type": "code",
   "execution_count": 3,
   "metadata": {},
   "outputs": [
    {
     "name": "stdout",
     "output_type": "stream",
     "text": [
      "2539.812898193052\n"
     ]
    }
   ],
   "source": [
    "df2017_01 =  pd.read_csv(\"yellow_tripdata_2017-01.csv\" ,low_memory=False, encoding = 'ISO-8859-1' )\n",
    "sigma = np.std(df2017_01['tip_amount'])\n",
    "c = 1.96\n",
    "eps = 0.1\n",
    "n = (c*sigma/eps)**2\n",
    "print(n)\n",
    "total_n += math.ceil(n)\n",
    "sample2017_01 = df2017_01.sample(n = math.ceil(n))\n",
    "sample2017_01.to_csv(r'C:\\Users\\alish\\Desktop\\Ads Project2\\sample2017_01.csv')"
   ]
  },
  {
   "cell_type": "code",
   "execution_count": 4,
   "metadata": {},
   "outputs": [
    {
     "name": "stdout",
     "output_type": "stream",
     "text": [
      "2385.131552661168\n"
     ]
    }
   ],
   "source": [
    "df2017_02 =  pd.read_csv(\"yellow_tripdata_2017-02.csv\" ,low_memory=False, encoding = 'ISO-8859-1' )\n",
    "sigma = np.std(df2017_02['tip_amount'])\n",
    "c = 1.96\n",
    "eps = 0.1\n",
    "n = (c*sigma/eps)**2\n",
    "print(n)\n",
    "total_n += math.ceil(n)\n",
    "sample2017_02 = df2017_02.sample(n = math.ceil(n))\n",
    "sample2017_02.to_csv(r'C:\\Users\\alish\\Desktop\\Ads Project2\\sample2017_02.csv')"
   ]
  },
  {
   "cell_type": "code",
   "execution_count": 5,
   "metadata": {},
   "outputs": [
    {
     "name": "stdout",
     "output_type": "stream",
     "text": [
      "2595.3897040171796\n"
     ]
    }
   ],
   "source": [
    "df2017_12 =  pd.read_csv(\"yellow_tripdata_2017-12.csv\" ,low_memory=False, encoding = 'ISO-8859-1' )\n",
    "sigma = np.std(df2017_12['tip_amount'])\n",
    "c = 1.96\n",
    "eps = 0.1\n",
    "n = (c*sigma/eps)**2\n",
    "print(n)\n",
    "total_n += math.ceil(n)\n",
    "sample2017_12 = df2017_12.sample(n = math.ceil(n))\n",
    "sample2017_12.to_csv(r'C:\\Users\\alish\\Desktop\\Ads Project2\\sample2017_12.csv')"
   ]
  },
  {
   "cell_type": "code",
   "execution_count": 6,
   "metadata": {},
   "outputs": [
    {
     "name": "stdout",
     "output_type": "stream",
     "text": [
      "2792.691487438388\n"
     ]
    }
   ],
   "source": [
    "df2017_06 =  pd.read_csv(\"yellow_tripdata_2017-06.csv\" ,low_memory=False, encoding = 'ISO-8859-1' )\n",
    "sigma = np.std(df2017_06['tip_amount'])\n",
    "c = 1.96\n",
    "eps = 0.1\n",
    "n = (c*sigma/eps)**2\n",
    "print(n)\n",
    "total_n += math.ceil(n)\n",
    "sample2017_06 = df2017_06.sample(n = math.ceil(n))\n",
    "sample2017_06.to_csv(r'C:\\Users\\alish\\Desktop\\Ads Project2\\sample2017_06.csv')"
   ]
  },
  {
   "cell_type": "code",
   "execution_count": 7,
   "metadata": {},
   "outputs": [
    {
     "name": "stdout",
     "output_type": "stream",
     "text": [
      "2621.1958907165304\n"
     ]
    }
   ],
   "source": [
    "df2017_07 =  pd.read_csv(\"yellow_tripdata_2017-07.csv\" ,low_memory=False, encoding = 'ISO-8859-1' )\n",
    "sigma = np.std(df2017_07['tip_amount'])\n",
    "c = 1.96\n",
    "eps = 0.1\n",
    "n = (c*sigma/eps)**2\n",
    "print(n)\n",
    "total_n += math.ceil(n)\n",
    "sample2017_07 = df2017_07.sample(n = math.ceil(n))\n",
    "sample2017_07.to_csv(r'C:\\Users\\alish\\Desktop\\Ads Project2\\sample2017_07.csv')"
   ]
  },
  {
   "cell_type": "code",
   "execution_count": 8,
   "metadata": {},
   "outputs": [
    {
     "name": "stdout",
     "output_type": "stream",
     "text": [
      "2621.3118932970124\n"
     ]
    }
   ],
   "source": [
    "df2017_08 =  pd.read_csv(\"yellow_tripdata_2017-08.csv\" ,low_memory=False, encoding = 'ISO-8859-1' )\n",
    "sigma = np.std(df2017_08['tip_amount'])\n",
    "c = 1.96\n",
    "eps = 0.1\n",
    "n = (c*sigma/eps)**2\n",
    "print(n)\n",
    "total_n += math.ceil(n)\n",
    "sample2017_08 = df2017_08.sample(n = math.ceil(n))\n",
    "sample2017_08.to_csv(r'C:\\Users\\alish\\Desktop\\Ads Project2\\sample2017_08.csv')"
   ]
  },
  {
   "cell_type": "code",
   "execution_count": 9,
   "metadata": {},
   "outputs": [
    {
     "name": "stdout",
     "output_type": "stream",
     "text": [
      "2374.8345403272997\n"
     ]
    }
   ],
   "source": [
    "df2018_01 =  pd.read_csv(\"yellow_tripdata_2018-01.csv\" ,low_memory=False, encoding = 'ISO-8859-1' )\n",
    "sigma = np.std(df2018_01['tip_amount'])\n",
    "c = 1.96\n",
    "eps = 0.1\n",
    "n = (c*sigma/eps)**2\n",
    "print(n)\n",
    "total_n += math.ceil(n)\n",
    "sample2018_01 = df2018_01.sample(n = math.ceil(n))\n",
    "sample2018_01.to_csv(r'C:\\Users\\alish\\Desktop\\Ads Project2\\sample2018_01.csv')"
   ]
  },
  {
   "cell_type": "code",
   "execution_count": 10,
   "metadata": {},
   "outputs": [
    {
     "name": "stdout",
     "output_type": "stream",
     "text": [
      "2319.1970468230406\n"
     ]
    }
   ],
   "source": [
    "df2018_02 =  pd.read_csv(\"yellow_tripdata_2018-02.csv\" ,low_memory=False, encoding = 'ISO-8859-1' )\n",
    "sigma = np.std(df2018_02['tip_amount'])\n",
    "c = 1.96\n",
    "eps = 0.1\n",
    "n = (c*sigma/eps)**2\n",
    "print(n)\n",
    "total_n += math.ceil(n)\n",
    "sample2018_02 = df2018_02.sample(n = math.ceil(n))\n",
    "sample2018_02.to_csv(r'C:\\Users\\alish\\Desktop\\Ads Project2\\sample2018_02.csv')"
   ]
  },
  {
   "cell_type": "code",
   "execution_count": 11,
   "metadata": {},
   "outputs": [
    {
     "name": "stdout",
     "output_type": "stream",
     "text": [
      "2727.5314549010504\n"
     ]
    }
   ],
   "source": [
    "df2018_06 =  pd.read_csv(\"yellow_tripdata_2018-06.csv\" ,low_memory=False, encoding = 'ISO-8859-1' )\n",
    "sigma = np.std(df2018_06['tip_amount'])\n",
    "c = 1.96\n",
    "eps = 0.1\n",
    "n = (c*sigma/eps)**2\n",
    "print(n)\n",
    "total_n += math.ceil(n)\n",
    "sample2018_06 = df2018_06.sample(n = math.ceil(n))\n",
    "sample2018_06.to_csv(r'C:\\Users\\alish\\Desktop\\Ads Project2\\sample2018_06.csv')"
   ]
  },
  {
   "cell_type": "code",
   "execution_count": 12,
   "metadata": {},
   "outputs": [
    {
     "name": "stdout",
     "output_type": "stream",
     "text": [
      "2638.2077251912892\n"
     ]
    }
   ],
   "source": [
    "df2018_07 =  pd.read_csv(\"yellow_tripdata_2018-07.csv\" ,low_memory=False, encoding = 'ISO-8859-1' )\n",
    "sigma = np.std(df2018_07['tip_amount'])\n",
    "c = 1.96\n",
    "eps = 0.1\n",
    "n = (c*sigma/eps)**2\n",
    "print(n)\n",
    "total_n += math.ceil(n)\n",
    "sample2018_07 = df2018_07.sample(n = math.ceil(n))\n",
    "sample2018_07.to_csv(r'C:\\Users\\alish\\Desktop\\Ads Project2\\sample2018_07.csv')"
   ]
  },
  {
   "cell_type": "code",
   "execution_count": 13,
   "metadata": {},
   "outputs": [
    {
     "name": "stdout",
     "output_type": "stream",
     "text": [
      "2619.2281397822885\n"
     ]
    }
   ],
   "source": [
    "df2018_08 =  pd.read_csv(\"yellow_tripdata_2018-08.csv\" ,low_memory=False, encoding = 'ISO-8859-1' )\n",
    "sigma = np.std(df2018_08['tip_amount'])\n",
    "c = 1.96\n",
    "eps = 0.1\n",
    "n = (c*sigma/eps)**2\n",
    "print(n)\n",
    "total_n += math.ceil(n)\n",
    "sample2018_08 = df2018_08.sample(n = math.ceil(n))\n",
    "sample2018_08.to_csv(r'C:\\Users\\alish\\Desktop\\Ads Project2\\sample2018_08.csv')"
   ]
  },
  {
   "cell_type": "code",
   "execution_count": 14,
   "metadata": {},
   "outputs": [
    {
     "name": "stdout",
     "output_type": "stream",
     "text": [
      "2633.868802916192\n"
     ]
    }
   ],
   "source": [
    "df2018_12 =  pd.read_csv(\"yellow_tripdata_2018-12.csv\" ,low_memory=False, encoding = 'ISO-8859-1' )\n",
    "sigma = np.std(df2018_12['tip_amount'])\n",
    "c = 1.96\n",
    "eps = 0.1\n",
    "n = (c*sigma/eps)**2\n",
    "print(n)\n",
    "total_n += math.ceil(n)\n",
    "sample2018_12 = df2018_12.sample(n = math.ceil(n))\n",
    "sample2018_12.to_csv(r'C:\\Users\\alish\\Desktop\\Ads Project2\\sample2018_12.csv')"
   ]
  },
  {
   "cell_type": "code",
   "execution_count": 17,
   "metadata": {},
   "outputs": [
    {
     "name": "stdout",
     "output_type": "stream",
     "text": [
      "30875\n",
      "2572.9166666666665\n"
     ]
    }
   ],
   "source": [
    "print(total_n)\n",
    "print(total_n/12)"
   ]
  },
  {
   "cell_type": "code",
   "execution_count": 29,
   "metadata": {
    "scrolled": true
   },
   "outputs": [],
   "source": [
    "df_2017_summer = sample2017_06.append(sample2017_07, ignore_index = True) \n",
    "df_2017_summer = df_2017_summer.append(sample2017_08, ignore_index = True) \n",
    "df_2017_summer = df_2017_summer.loc[:, [\"tpep_pickup_datetime\", \"tpep_dropoff_datetime\", \"trip_distance\", \"PULocationID\", \"tip_amount\"]].round(3)\n",
    "df_2017_summer.to_csv(r'C:\\Users\\alish\\Desktop\\Ads Project2\\2017_summer.csv', index = False)"
   ]
  },
  {
   "cell_type": "code",
   "execution_count": 30,
   "metadata": {},
   "outputs": [],
   "source": [
    "df_2017_winter = sample2017_12.append(sample2017_01, ignore_index = True) \n",
    "df_2017_winter = df_2017_winter.append(sample2017_02, ignore_index = True) \n",
    "df_2017_winter = df_2017_winter.loc[:, [\"tpep_pickup_datetime\", \"tpep_dropoff_datetime\", \"trip_distance\", \"PULocationID\", \"tip_amount\"]].round(3)\n",
    "df_2017_winter.to_csv(r'C:\\Users\\alish\\Desktop\\Ads Project2\\2017_winter.csv', index = False)"
   ]
  },
  {
   "cell_type": "code",
   "execution_count": 31,
   "metadata": {},
   "outputs": [],
   "source": [
    "df_2018_summer = sample2018_06.append(sample2018_07, ignore_index = True) \n",
    "df_2018_summer = df_2018_summer.append(sample2018_08, ignore_index = True) \n",
    "df_2018_summer = df_2018_summer.loc[:, [\"tpep_pickup_datetime\", \"tpep_dropoff_datetime\", \"trip_distance\", \"PULocationID\", \"tip_amount\"]].round(3)\n",
    "df_2018_summer.to_csv(r'C:\\Users\\alish\\Desktop\\Ads Project2\\2018_summer.csv', index = False)"
   ]
  },
  {
   "cell_type": "code",
   "execution_count": 32,
   "metadata": {},
   "outputs": [],
   "source": [
    "df_2018_winter = sample2018_12.append(sample2018_01, ignore_index = True) \n",
    "df_2018_winter = df_2018_winter.append(sample2018_02, ignore_index = True) \n",
    "df_2018_winter = df_2018_winter.loc[:, [\"tpep_pickup_datetime\", \"tpep_dropoff_datetime\", \"trip_distance\", \"PULocationID\", \"tip_amount\"]].round(3)\n",
    "df_2018_winter.to_csv(r'C:\\Users\\alish\\Desktop\\Ads Project2\\2018_winter.csv', index = False)"
   ]
  }
 ],
 "metadata": {
  "kernelspec": {
   "display_name": "Python 3",
   "language": "python",
   "name": "python3"
  },
  "language_info": {
   "codemirror_mode": {
    "name": "ipython",
    "version": 3
   },
   "file_extension": ".py",
   "mimetype": "text/x-python",
   "name": "python",
   "nbconvert_exporter": "python",
   "pygments_lexer": "ipython3",
   "version": "3.6.5"
  }
 },
 "nbformat": 4,
 "nbformat_minor": 2
}
