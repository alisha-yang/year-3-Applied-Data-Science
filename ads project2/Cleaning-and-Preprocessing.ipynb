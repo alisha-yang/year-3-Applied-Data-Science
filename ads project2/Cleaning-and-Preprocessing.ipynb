{
 "cells": [
  {
   "cell_type": "code",
   "execution_count": 1,
   "metadata": {},
   "outputs": [],
   "source": [
    "import pandas as pd\n",
    "import warnings\n",
    "import numpy as np\n",
    "warnings.simplefilter(action='ignore', category=FutureWarning)\n",
    "import matplotlib.pyplot as plt\n",
    "import datetime"
   ]
  },
  {
   "cell_type": "code",
   "execution_count": 2,
   "metadata": {},
   "outputs": [],
   "source": [
    "df_2017_winter = pd.read_csv(\"2017_winter.csv\" ,low_memory=False, encoding = 'ISO-8859-1' )\n",
    "df_2017_summer = pd.read_csv(\"2017_summer.csv\" ,low_memory=False, encoding = 'ISO-8859-1' )\n",
    "df_2018_winter = pd.read_csv(\"2018_winter.csv\" ,low_memory=False, encoding = 'ISO-8859-1' )\n",
    "df_2018_summer = pd.read_csv(\"2018_summer.csv\" ,low_memory=False, encoding = 'ISO-8859-1' )"
   ]
  },
  {
   "cell_type": "code",
   "execution_count": 3,
   "metadata": {},
   "outputs": [
    {
     "data": {
      "text/html": [
       "<div>\n",
       "<style scoped>\n",
       "    .dataframe tbody tr th:only-of-type {\n",
       "        vertical-align: middle;\n",
       "    }\n",
       "\n",
       "    .dataframe tbody tr th {\n",
       "        vertical-align: top;\n",
       "    }\n",
       "\n",
       "    .dataframe thead th {\n",
       "        text-align: right;\n",
       "    }\n",
       "</style>\n",
       "<table border=\"1\" class=\"dataframe\">\n",
       "  <thead>\n",
       "    <tr style=\"text-align: right;\">\n",
       "      <th></th>\n",
       "      <th>tpep_pickup_datetime</th>\n",
       "      <th>tpep_dropoff_datetime</th>\n",
       "      <th>trip_distance</th>\n",
       "      <th>PULocationID</th>\n",
       "      <th>tip_amount</th>\n",
       "    </tr>\n",
       "  </thead>\n",
       "  <tbody>\n",
       "    <tr>\n",
       "      <th>0</th>\n",
       "      <td>2017-12-09 11:14:24</td>\n",
       "      <td>2017-12-09 11:41:01</td>\n",
       "      <td>3.35</td>\n",
       "      <td>90</td>\n",
       "      <td>2.00</td>\n",
       "    </tr>\n",
       "    <tr>\n",
       "      <th>1</th>\n",
       "      <td>2017-12-22 21:47:10</td>\n",
       "      <td>2017-12-22 21:53:45</td>\n",
       "      <td>1.63</td>\n",
       "      <td>166</td>\n",
       "      <td>0.00</td>\n",
       "    </tr>\n",
       "    <tr>\n",
       "      <th>2</th>\n",
       "      <td>2017-12-09 14:56:10</td>\n",
       "      <td>2017-12-09 14:58:38</td>\n",
       "      <td>0.63</td>\n",
       "      <td>24</td>\n",
       "      <td>0.72</td>\n",
       "    </tr>\n",
       "    <tr>\n",
       "      <th>3</th>\n",
       "      <td>2017-12-29 23:29:48</td>\n",
       "      <td>2017-12-29 23:34:25</td>\n",
       "      <td>0.76</td>\n",
       "      <td>142</td>\n",
       "      <td>0.00</td>\n",
       "    </tr>\n",
       "    <tr>\n",
       "      <th>4</th>\n",
       "      <td>2017-12-02 13:57:34</td>\n",
       "      <td>2017-12-02 14:00:24</td>\n",
       "      <td>0.50</td>\n",
       "      <td>43</td>\n",
       "      <td>1.00</td>\n",
       "    </tr>\n",
       "  </tbody>\n",
       "</table>\n",
       "</div>"
      ],
      "text/plain": [
       "  tpep_pickup_datetime tpep_dropoff_datetime  trip_distance  PULocationID  \\\n",
       "0  2017-12-09 11:14:24   2017-12-09 11:41:01           3.35            90   \n",
       "1  2017-12-22 21:47:10   2017-12-22 21:53:45           1.63           166   \n",
       "2  2017-12-09 14:56:10   2017-12-09 14:58:38           0.63            24   \n",
       "3  2017-12-29 23:29:48   2017-12-29 23:34:25           0.76           142   \n",
       "4  2017-12-02 13:57:34   2017-12-02 14:00:24           0.50            43   \n",
       "\n",
       "   tip_amount  \n",
       "0        2.00  \n",
       "1        0.00  \n",
       "2        0.72  \n",
       "3        0.00  \n",
       "4        1.00  "
      ]
     },
     "execution_count": 3,
     "metadata": {},
     "output_type": "execute_result"
    }
   ],
   "source": [
    "df_2017_winter.head(5)"
   ]
  },
  {
   "cell_type": "code",
   "execution_count": 4,
   "metadata": {},
   "outputs": [
    {
     "name": "stdout",
     "output_type": "stream",
     "text": [
      "False\n",
      "False\n",
      "False\n",
      "False\n"
     ]
    }
   ],
   "source": [
    "print(df_2017_winter.isnull().values.any())\n",
    "print(df_2017_summer.isnull().values.any())\n",
    "print(df_2018_winter.isnull().values.any())\n",
    "print(df_2018_summer.isnull().values.any())"
   ]
  },
  {
   "cell_type": "code",
   "execution_count": 5,
   "metadata": {},
   "outputs": [
    {
     "data": {
      "text/plain": [
       "19946"
      ]
     },
     "execution_count": 5,
     "metadata": {},
     "output_type": "execute_result"
    }
   ],
   "source": [
    "df_2017_winter = df_2017_winter[(df_2017_winter != 0).all(1)]\n",
    "df_2017_summer = df_2017_summer[(df_2017_summer != 0).all(1)]\n",
    "df_2018_winter = df_2018_winter[(df_2018_winter != 0).all(1)]\n",
    "df_2018_summer = df_2018_summer[(df_2018_summer != 0).all(1)]\n",
    "\n",
    "a = 0\n",
    "a += df_2017_winter.shape[0]\n",
    "a += df_2017_summer.shape[0]\n",
    "a += df_2018_winter.shape[0]\n",
    "a += df_2018_summer.shape[0]\n",
    "a\n"
   ]
  },
  {
   "cell_type": "code",
   "execution_count": 6,
   "metadata": {},
   "outputs": [],
   "source": [
    "#calculating speed km/h and add pick up hour column\n",
    "\n",
    "def get_summary_df(df):\n",
    "    \n",
    "    #convert data type\n",
    "    df['tpep_pickup_datetime']  = pd.to_datetime(df['tpep_pickup_datetime'])\n",
    "    df['tpep_dropoff_datetime']  = pd.to_datetime(df['tpep_dropoff_datetime'])\n",
    "    df['duration'] = df['tpep_dropoff_datetime'] - df['tpep_pickup_datetime']\n",
    "\n",
    "    df['duration_seconds'] = df['duration']// datetime.timedelta(seconds=1)\n",
    "\n",
    "#miles to km\n",
    "    df['trip_distance_km'] = df['trip_distance'] * 1.609344\n",
    "\n",
    "#km per hour\n",
    "    df['avg_speed'] = (df['trip_distance_km']/df['duration_seconds']) * 60 * 60\n",
    "\n",
    "\n",
    "    df['pickup_hour'] = df['tpep_pickup_datetime'].dt.hour\n",
    "    \n",
    "    df['tpep_pickup_datetime']  = pd.to_datetime(df['tpep_pickup_datetime']).dt.date\n",
    "    df = df.rename(columns={\"tpep_pickup_datetime\": \"Pickup_Date\"})\n",
    "    return df.loc[:, ['Pickup_Date', 'trip_distance_km', 'duration_seconds', 'avg_speed', 'pickup_hour', 'PULocationID','tip_amount']]\n"
   ]
  },
  {
   "cell_type": "code",
   "execution_count": 7,
   "metadata": {},
   "outputs": [],
   "source": [
    "weather_17_df =  pd.read_csv(\"daily weather 2017.csv\" ,low_memory=False, encoding = 'ISO-8859-1' )\n",
    "\n",
    "weather_17_df = weather_17_df.loc[:, ['Date time', 'Minimum Temperature', 'Maximum Temperature', 'Temperature']]\n",
    "\n",
    "#converting date format to match taxi data\n",
    "date_ls = []\n",
    "format_str = '%m/%d/%Y'\n",
    "for date_str in weather_17_df[\"Date time\"]: \n",
    "    date_ls.append(datetime.datetime.strptime(date_str, format_str).strftime(\"%Y-%m-%d\"))\n",
    "    \n",
    "weather_17_df[\"Date time\"] = date_ls\n",
    "weather_17_df = weather_17_df.rename(columns={\"Date time\": \"Date\"})\n",
    "\n",
    "#converting from Fahrenheit to Celsius\n",
    "weather_17_df['Temperature'] = round((weather_17_df['Temperature'] - 32)/1.8, 2)\n",
    "weather_17_df['Minimum Temperature'] = round((weather_17_df['Minimum Temperature'] - 32)/1.8, 2)\n",
    "weather_17_df['Maximum Temperature'] = round((weather_17_df['Maximum Temperature'] - 32)/1.8, 2)\n",
    "\n",
    "weather_17_df.to_csv(r'C:\\Users\\alish\\Desktop\\Ads Project2\\weather_summary_2017.csv', index = False)"
   ]
  },
  {
   "cell_type": "code",
   "execution_count": 8,
   "metadata": {},
   "outputs": [],
   "source": [
    "weather_18_df =  pd.read_csv(\"daily weather 2018.csv\" ,low_memory=False, encoding = 'ISO-8859-1' )\n",
    "weather_18_df = weather_18_df.loc[:, ['Date time', 'Minimum Temperature', 'Maximum Temperature', 'Temperature']]\n",
    "\n",
    "#converting date format to match taxi data\n",
    "date_ls = []\n",
    "format_str = '%m/%d/%Y'\n",
    "for date_str in weather_18_df[\"Date time\"]: \n",
    "    date_ls.append(datetime.datetime.strptime(date_str, format_str).strftime(\"%Y-%m-%d\"))\n",
    "    \n",
    "weather_18_df[\"Date time\"] = date_ls\n",
    "weather_18_df = weather_18_df.rename(columns={\"Date time\": \"Date\"})\n",
    "\n",
    "#converting from Fahrenheit to Celsius\n",
    "weather_18_df['Temperature'] = round((weather_18_df['Temperature'] - 32)/1.8, 2)\n",
    "weather_18_df['Minimum Temperature'] = round((weather_18_df['Minimum Temperature'] - 32)/1.8, 2)\n",
    "weather_18_df['Maximum Temperature'] = round((weather_18_df['Maximum Temperature'] - 32)/1.8, 2)\n",
    "\n",
    "weather_18_df.to_csv(r'C:\\Users\\alish\\Desktop\\Ads Project2\\weather_summary_2018.csv', index = False)"
   ]
  },
  {
   "cell_type": "code",
   "execution_count": 9,
   "metadata": {},
   "outputs": [],
   "source": [
    "temp_2017_summer = get_summary_df(df_2017_summer).sort_values(by=['Pickup_Date'])\n",
    "temp_2017_winter = get_summary_df(df_2017_winter).sort_values(by=['Pickup_Date'])\n",
    "temp_2018_summer = get_summary_df(df_2018_summer).sort_values(by=['Pickup_Date'])\n",
    "temp_2018_winter = get_summary_df(df_2018_winter).sort_values(by=['Pickup_Date'])"
   ]
  },
  {
   "cell_type": "code",
   "execution_count": 10,
   "metadata": {},
   "outputs": [],
   "source": [
    "weather_17_df['Date'] = pd.to_datetime(weather_17_df['Date'])\n",
    "weather_18_df['Date'] = pd.to_datetime(weather_18_df['Date'])\n",
    "\n",
    "temp_2017_summer['Pickup_Date'] = pd.to_datetime(temp_2017_summer['Pickup_Date'])\n",
    "temp_2017_winter['Pickup_Date'] = pd.to_datetime(temp_2017_winter['Pickup_Date'])\n",
    "temp_2018_summer['Pickup_Date'] = pd.to_datetime(temp_2018_summer['Pickup_Date'])\n",
    "temp_2018_winter['Pickup_Date'] = pd.to_datetime(temp_2018_winter['Pickup_Date'])\n",
    "\n",
    "\n",
    "summary_2017_summer = pd.merge(temp_2017_summer, weather_17_df, left_on = 'Pickup_Date', right_on = 'Date').drop('Date', axis=1)\n",
    "summary_2017_winter = pd.merge(temp_2017_winter, weather_17_df, left_on = 'Pickup_Date', right_on = 'Date').drop('Date', axis=1)\n",
    "summary_2018_summer = pd.merge(temp_2018_summer, weather_18_df, left_on = 'Pickup_Date', right_on = 'Date').drop('Date', axis=1)\n",
    "summary_2018_winter = pd.merge(temp_2018_winter, weather_18_df, left_on = 'Pickup_Date', right_on = 'Date').drop('Date', axis=1)\n",
    "\n",
    "\n",
    "summary_2017_summer = summary_2017_summer.loc[:, ['Pickup_Date','trip_distance_km', 'duration_seconds','avg_speed','pickup_hour','Minimum Temperature','Maximum Temperature','Temperature','tip_amount','PULocationID']]\n",
    "summary_2017_winter = summary_2017_winter.loc[:, ['Pickup_Date','trip_distance_km', 'duration_seconds','avg_speed','pickup_hour','Minimum Temperature','Maximum Temperature','Temperature','tip_amount','PULocationID']]\n",
    "summary_2018_summer = summary_2018_summer.loc[:, ['Pickup_Date','trip_distance_km', 'duration_seconds','avg_speed','pickup_hour','Minimum Temperature','Maximum Temperature','Temperature','tip_amount','PULocationID']]\n",
    "summary_2018_winter = summary_2018_winter.loc[:, ['Pickup_Date','trip_distance_km', 'duration_seconds','avg_speed','pickup_hour','Minimum Temperature','Maximum Temperature','Temperature','tip_amount','PULocationID']]\n",
    "\n"
   ]
  },
  {
   "cell_type": "code",
   "execution_count": 11,
   "metadata": {},
   "outputs": [],
   "source": [
    "#checking and deleting outliers: 621, 2855, 3031; 889;1300, 4143, 2797, 3434\n",
    "summary_2017_summer = summary_2017_summer.drop([621, 2855, 3031])\n",
    "summary_2017_winter = summary_2017_winter.drop([889])\n",
    "summary_2018_summer = summary_2018_summer.drop ([1300, 4143, 2797, 3434])\n",
    "summary_2018_winter = summary_2018_winter.drop([3804])"
   ]
  },
  {
   "cell_type": "code",
   "execution_count": 12,
   "metadata": {},
   "outputs": [],
   "source": [
    "summary_2017_summer.to_csv(r'C:\\Users\\alish\\Desktop\\Ads Project2\\summary_2017_summer.csv', index = False)\n",
    "summary_2017_winter.to_csv(r'C:\\Users\\alish\\Desktop\\Ads Project2\\summary_2017_winter.csv', index = False)\n",
    "summary_2018_summer.to_csv(r'C:\\Users\\alish\\Desktop\\Ads Project2\\summary_2018_summer.csv', index = False)\n",
    "summary_2018_winter.to_csv(r'C:\\Users\\alish\\Desktop\\Ads Project2\\summary_2018_winter.csv', index = False)"
   ]
  },
  {
   "cell_type": "code",
   "execution_count": 13,
   "metadata": {},
   "outputs": [],
   "source": [
    "attrs = ['avg_speed','pickup_hour','Minimum Temperature','Maximum Temperature','Temperature', 'tip_amount']\n",
    "summary_2017_summer.loc[:,attrs].to_csv(r'C:\\Users\\alish\\Desktop\\Ads Project2\\final_2017_summer.csv', index = False)\n",
    "summary_2017_winter.loc[:,attrs].to_csv(r'C:\\Users\\alish\\Desktop\\Ads Project2\\final_2017_winter.csv', index = False)\n",
    "summary_2018_winter.loc[:,attrs].to_csv(r'C:\\Users\\alish\\Desktop\\Ads Project2\\final_2018_winter.csv', index = False)\n",
    "summary_2018_summer.loc[:,attrs].to_csv(r'C:\\Users\\alish\\Desktop\\Ads Project2\\final_2018_summer.csv', index = False)"
   ]
  },
  {
   "cell_type": "code",
   "execution_count": 14,
   "metadata": {
    "scrolled": true
   },
   "outputs": [
    {
     "data": {
      "image/png": "[encoded data removed]",
      "text/plain": [
       "<Figure size 720x432 with 1 Axes>"
      ]
     },
     "metadata": {},
     "output_type": "display_data"
    }
   ],
   "source": [
    "m_weather_17_df =  pd.read_csv(\"monthly weather 2017.csv\" ,low_memory=False, encoding = 'ISO-8859-1' )\n",
    "m_weather_17_df.head(5)\n",
    "\n",
    "m_weather_17_df['Temperature'] = round((m_weather_17_df['Temperature'] - 32)/1.8, 2)\n",
    "m_weather_17_df['Temperature']\n",
    "\n",
    "fig, ax = plt.subplots(1, figsize=(10, 6))\n",
    "plt.plot(m_weather_17_df[['Temperature']])\n",
    "plt.xlabel('Months')\n",
    "plt.ylabel(\"Average Temperature (℃)\")\n",
    "plt.title('Temperature in NYC in 2017')\n",
    "fig.savefig('Monthly Temperature 2017.png', dpi=300)"
   ]
  }
 ],
 "metadata": {
  "kernelspec": {
   "display_name": "Python 3",
   "language": "python",
   "name": "python3"
  },
  "language_info": {
   "codemirror_mode": {
    "name": "ipython",
    "version": 3
   },
   "file_extension": ".py",
   "mimetype": "text/x-python",
   "name": "python",
   "nbconvert_exporter": "python",
   "pygments_lexer": "ipython3",
   "version": "3.6.5"
  }
 },
 "nbformat": 4,
 "nbformat_minor": 2
}
