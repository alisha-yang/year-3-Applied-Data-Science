{
 "cells": [
  {
   "cell_type": "code",
   "execution_count": 10,
   "metadata": {},
   "outputs": [],
   "source": [
    "import pandas as pd"
   ]
  },
  {
   "cell_type": "code",
   "execution_count": null,
   "metadata": {},
   "outputs": [],
   "source": [
    "yellow_2015_07_df =  pd.read_csv(\"yellow_tripdata_2015-07.csv\" ,low_memory=False, encoding = 'ISO-8859-1' )\n",
    "#display(yellow_2015_07_df.head(2))\n",
    "\n",
    "summary_201507 = yellow_2015_07_df.loc[:, [\"pickup_longitude\", \"pickup_latitude\", \"dropoff_longitude\", \"dropoff_latitude\", \"payment_type\", \"tip_amount\", \"trip_distance\", \"total_amount\"]].round(3)\n",
    "summary_201507 = summary_201507[(summary_201507 != 0).all(1)]\n",
    "\n",
    "summary_201507.to_csv(r'C:\\Users\\alish\\Documents\\ads project1\\summary_201507.csv')"
   ]
  },
  {
   "cell_type": "code",
   "execution_count": null,
   "metadata": {},
   "outputs": [],
   "source": []
  }
 ],
 "metadata": {
  "kernelspec": {
   "display_name": "Python 3",
   "language": "python",
   "name": "python3"
  },
  "language_info": {
   "codemirror_mode": {
    "name": "ipython",
    "version": 3
   },
   "file_extension": ".py",
   "mimetype": "text/x-python",
   "name": "python",
   "nbconvert_exporter": "python",
   "pygments_lexer": "ipython3",
   "version": "3.6.5"
  }
 },
 "nbformat": 4,
 "nbformat_minor": 2
}
