{
 "cells": [
  {
   "cell_type": "code",
   "execution_count": 39,
   "metadata": {},
   "outputs": [],
   "source": [
    "import pandas as pd\n",
    "import warnings\n",
    "import numpy as np\n",
    "warnings.simplefilter(action='ignore', category=FutureWarning)"
   ]
  },
  {
   "cell_type": "code",
   "execution_count": 7,
   "metadata": {},
   "outputs": [],
   "source": [
    "yellow_201701_df =  pd.read_csv(\"yellow_tripdata_2017-01.csv\" ,low_memory=False, encoding = 'ISO-8859-1' )\n",
    "\n",
    "\n",
    "summary_201701 = yellow_201701_df.loc[:, [\"tpep_pickup_datetime\", \"PULocationID\", \"DOLocationID\", \"payment_type\", \"tip_amount\", \"trip_distance\", \"total_amount\"]].round(3)\n",
    "\n",
    "#only keep the rows with all entries being non-zero\n",
    "#to delete rows with missing values, also only keep rows with non-zero tip_amount\n",
    "summary_201701 = summary_201701[(summary_201701 != 0).all(1)]\n",
    "\n",
    "#rename\n",
    "summary_201701 = summary_201701.rename(columns={\"tpep_pickup_datetime\": \"pickup_time\",\n",
    "\"PULocationID\": \"pickup_taxizoneID\",\n",
    "\"DOLocationID\": \"dropoff_taxizoneID\",\n",
    "\"tip_amount\": \"tip\", \n",
    "\"trip_distance\": \"distance\"})               \n",
    "summary_201701.to_csv(r'C:\\Users\\alish\\Documents\\ads project1\\summary_201701.csv')"
   ]
  },
  {
   "cell_type": "code",
   "execution_count": 10,
   "metadata": {},
   "outputs": [],
   "source": [
    "summary_201701 = pd.read_csv(\"summary_201701.csv\" ,low_memory=False, encoding = 'ISO-8859-1', index_col=0)"
   ]
  },
  {
   "cell_type": "code",
   "execution_count": 46,
   "metadata": {},
   "outputs": [],
   "source": [
    "#create a summary for total tips received in each taxi zone\n",
    "\n",
    "tips_each_zone = summary_201701.groupby(['pickup_taxizoneID'])['tip'].sum().reset_index()\n",
    "\n",
    "tips_each_zone = pd.DataFrame(tips_each_zone.values, columns = ['PUzoneID', 'total_tip'])\n",
    "\n",
    "tips_each_zone['PUzoneID'] = tips_each_zone['PUzoneID'].astype(int)\n",
    "\n",
    "tips_each_zone = tips_each_zone\n",
    "\n",
    "for i in range(1,263): \n",
    "    if i not in tips_each_zone[\"PUzoneID\"].values:\n",
    "        tips_each_zone.loc[len(tips_each_zone)] = [i, 0]\n",
    "        \n",
    "tips_each_zone = tips_each_zone.drop([249, 250], axis = 0)\n",
    "\n",
    "tips_each_zone.to_csv(r'C:\\Users\\alish\\Documents\\ads project1\\tips_each_zone.csv', index = False)"
   ]
  },
  {
   "cell_type": "code",
   "execution_count": 37,
   "metadata": {},
   "outputs": [],
   "source": [
    "#create a summary for number of pickups in each taxi zone\n",
    "\n",
    "count_pickup = summary_201701.groupby(['pickup_taxizoneID']).count().reset_index()\n",
    "#count_pickup \n",
    "num_pickup = pd.DataFrame()\n",
    "num_pickup['PUzoneID'] = count_pickup['pickup_taxizoneID']\n",
    "num_pickup['num_pickup'] = count_pickup['tip']\n",
    "\n",
    "for i in range(1,263): \n",
    "    if i not in num_pickup[\"PUzoneID\"].values:\n",
    "        num_pickup.loc[len(num_pickup)] = [i, 0]\n",
    "        \n",
    "num_pickup = num_pickup.drop([249, 250], axis = 0)\n",
    "\n",
    "num_pickup.to_csv(r'C:\\Users\\alish\\Documents\\ads project1\\num_pickup.csv', index = False)"
   ]
  }
 ],
 "metadata": {
  "kernelspec": {
   "display_name": "Python 3",
   "language": "python",
   "name": "python3"
  },
  "language_info": {
   "codemirror_mode": {
    "name": "ipython",
    "version": 3
   },
   "file_extension": ".py",
   "mimetype": "text/x-python",
   "name": "python",
   "nbconvert_exporter": "python",
   "pygments_lexer": "ipython3",
   "version": "3.6.5"
  }
 },
 "nbformat": 4,
 "nbformat_minor": 2
}
